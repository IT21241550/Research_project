{
 "cells": [
  {
   "cell_type": "code",
   "execution_count": null,
   "metadata": {},
   "outputs": [],
   "source": [
    "# Code example for Jupyter Notebook\n",
    "import pandas as pd\n",
    "import matplotlib.pyplot as plt\n",
    "\n",
    "data = pd.read_csv(\"../data/raw/dummy_data.csv\")\n",
    "print(data.describe())\n",
    "\n",
    "# Scatter plot: Pressure vs Wind Speed\n",
    "plt.scatter(data['pressure'], data['wind_speed'], c=data['storm_category'], cmap='viridis')\n",
    "plt.xlabel('Pressure')\n",
    "plt.ylabel('Wind Speed')\n",
    "plt.title('Cyclone Data Analysis')\n",
    "plt.colorbar(label='Storm Category')\n",
    "plt.show()\n"
   ]
  }
 ],
 "metadata": {
  "language_info": {
   "name": "python"
  }
 },
 "nbformat": 4,
 "nbformat_minor": 2
}
