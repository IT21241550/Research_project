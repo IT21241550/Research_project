{
 "cells": [
  {
   "cell_type": "code",
   "execution_count": null,
   "metadata": {},
   "outputs": [],
   "source": [
    "import folium\n",
    "\n",
    "# Example coordinates for regions\n",
    "regions = {'Region1': [27.7172, 85.3240], 'Region2': [27.9878, 86.9248]}\n",
    "risk_levels = {'Region1': 1, 'Region2': 0}\n",
    "\n",
    "# Create a map\n",
    "map = folium.Map(location=[27.7, 85.3], zoom_start=7)\n",
    "for region, coords in regions.items():\n",
    "    color = 'red' if risk_levels[region] == 1 else 'green'\n",
    "    folium.CircleMarker(location=coords, radius=10, color=color, fill=True).add_to(map)\n",
    "\n",
    "map.save('../maps/landslide_map.html')\n"
   ]
  }
 ],
 "metadata": {
  "language_info": {
   "name": "python"
  }
 },
 "nbformat": 4,
 "nbformat_minor": 2
}
