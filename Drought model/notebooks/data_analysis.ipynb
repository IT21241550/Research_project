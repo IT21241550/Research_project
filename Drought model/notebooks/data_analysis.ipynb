{
 "cells": [
  {
   "cell_type": "code",
   "execution_count": null,
   "metadata": {
    "vscode": {
     "languageId": "plaintext"
    }
   },
   "outputs": [],
   "source": [
    "# EDA: Checking data summary and correlations\n",
    "import pandas as pd\n",
    "import matplotlib.pyplot as plt\n",
    "\n",
    "data = pd.read_csv(\"../data/raw/dummy_data.csv\")\n",
    "print(data.describe())\n",
    "\n",
    "# Scatter plot of Rain Data vs Standardized Precipitation Index\n",
    "plt.scatter(data['RainData'], data['Standardized Precipitation Index'], c=data['DroughtCategory'].map({'Severe': 0, 'Moderate': 1, 'Normal': 2, 'Extreme': 3}), cmap='viridis')\n",
    "plt.xlabel('Rain Data')\n",
    "plt.ylabel('Standardized Precipitation Index')\n",
    "plt.title('Drought Data Analysis')\n",
    "plt.colorbar(label='Drought Category')\n",
    "plt.show()\n"
   ]
  }
 ],
 "metadata": {
  "language_info": {
   "name": "python"
  }
 },
 "nbformat": 4,
 "nbformat_minor": 2
}
