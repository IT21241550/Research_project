{
 "cells": [
  {
   "cell_type": "code",
   "execution_count": null,
   "metadata": {
    "vscode": {
     "languageId": "plaintext"
    }
   },
   "outputs": [],
   "source": [
    "# Model training with RandomForest\n",
    "import pandas as pd\n",
    "from sklearn.model_selection import train_test_split\n",
    "from sklearn.ensemble import RandomForestClassifier\n",
    "import joblib\n",
    "\n",
    "data = pd.read_csv(\"../data/processed/processed_data.csv\")\n",
    "X = data[['RainData', 'Standardized Precipitation Index', 'Standardized Precipitation Evapotranspiration Index']]\n",
    "y = data['DroughtCategory']\n",
    "\n",
    "X_train, X_test, y_train, y_test = train_test_split(X, y, test_size=0.2, random_state=42)\n",
    "\n",
    "model = RandomForestClassifier(n_estimators=100, random_state=42)\n",
    "model.fit(X_train, y_train)\n",
    "\n",
    "print(f\"Training Accuracy: {model.score(X_train, y_train):.2f}\")\n",
    "print(f\"Testing Accuracy: {model.score(X_test, y_test):.2f}\")\n",
    "\n",
    "# Save the trained model\n",
    "joblib.dump(model, \"../models/Drought_model.pkl\")\n"
   ]
  }
 ],
 "metadata": {
  "language_info": {
   "name": "python"
  }
 },
 "nbformat": 4,
 "nbformat_minor": 2
}
